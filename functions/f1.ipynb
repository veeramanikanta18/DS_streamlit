{
 "cells": [
  {
   "cell_type": "code",
   "execution_count": 1,
   "metadata": {},
   "outputs": [
    {
     "data": {
      "text/plain": [
       "12"
      ]
     },
     "execution_count": 1,
     "metadata": {},
     "output_type": "execute_result"
    }
   ],
   "source": [
    "def add(x,y):               # def is a keyword for creating functions \n",
    "    result = x + y          # x,y are parameters\n",
    "    result *= 2\n",
    "    return result\n",
    "\n",
    "add(2,4)                    # calling function with passing argument values "
   ]
  },
  {
   "cell_type": "code",
   "execution_count": 2,
   "metadata": {},
   "outputs": [
    {
     "data": {
      "text/plain": [
       "'manikantamanikanta'"
      ]
     },
     "execution_count": 2,
     "metadata": {},
     "output_type": "execute_result"
    }
   ],
   "source": [
    "add ('mani','kanta')"
   ]
  },
  {
   "cell_type": "code",
   "execution_count": 3,
   "metadata": {},
   "outputs": [
    {
     "name": "stdout",
     "output_type": "stream",
     "text": [
      "5---25\n"
     ]
    }
   ],
   "source": [
    "def get_sqr(num):\n",
    "    print(num,num**2, sep='---')            # returning value is optional \n",
    "                                            # if no return means, return none\n",
    "\n",
    "get_sqr(5)"
   ]
  },
  {
   "cell_type": "code",
   "execution_count": 4,
   "metadata": {},
   "outputs": [
    {
     "data": {
      "text/plain": [
       "(2.449489742783178, 2)"
      ]
     },
     "execution_count": 4,
     "metadata": {},
     "output_type": "execute_result"
    }
   ],
   "source": [
    "import math\n",
    "def my_fun(x,y):\n",
    "    new_val = x * y\n",
    "    new_val = math.sqrt(new_val)\n",
    "    final_val = int(new_val)\n",
    "    return new_val, final_val\n",
    "\n",
    "my_fun(2,3)"
   ]
  },
  {
   "cell_type": "code",
   "execution_count": null,
   "metadata": {},
   "outputs": [],
   "source": [
    "name = 'mani'"
   ]
  },
  {
   "cell_type": "code",
   "execution_count": 5,
   "metadata": {},
   "outputs": [
    {
     "name": "stdout",
     "output_type": "stream",
     "text": [
      "0\n"
     ]
    }
   ],
   "source": [
    "# adding new artibute of a  function:\n",
    "\n",
    "my_fun.count = 0\n",
    "print(my_fun.count)"
   ]
  },
  {
   "cell_type": "code",
   "execution_count": 6,
   "metadata": {},
   "outputs": [],
   "source": [
    "my_fun.calls = 23"
   ]
  },
  {
   "cell_type": "code",
   "execution_count": 7,
   "metadata": {},
   "outputs": [],
   "source": [
    "my_fun.info = []"
   ]
  },
  {
   "cell_type": "code",
   "execution_count": 8,
   "metadata": {},
   "outputs": [],
   "source": [
    "my_fun.info.append('hi')\n",
    "my_fun.info.append(True)\n",
    "my_fun.info.append(43)"
   ]
  },
  {
   "cell_type": "code",
   "execution_count": 9,
   "metadata": {},
   "outputs": [
    {
     "data": {
      "text/plain": [
       "['hi', True, 43]"
      ]
     },
     "execution_count": 9,
     "metadata": {},
     "output_type": "execute_result"
    }
   ],
   "source": [
    "my_fun.info"
   ]
  },
  {
   "cell_type": "code",
   "execution_count": 4,
   "metadata": {},
   "outputs": [],
   "source": [
    "def f1():\n",
    "    print('hello')\n",
    "    def f2(x,y):\n",
    "        print(x+y)\n",
    "    f2(2,3)\n",
    "    print('edning...')"
   ]
  },
  {
   "cell_type": "code",
   "execution_count": 5,
   "metadata": {},
   "outputs": [
    {
     "name": "stdout",
     "output_type": "stream",
     "text": [
      "hello\n",
      "5\n",
      "edning...\n"
     ]
    }
   ],
   "source": [
    "f1()"
   ]
  },
  {
   "cell_type": "code",
   "execution_count": 6,
   "metadata": {},
   "outputs": [],
   "source": [
    "# built-in scope variables:\n",
    "\n",
    "# what are the built-in function is like pow , list.. are built-iin scope variables"
   ]
  },
  {
   "cell_type": "code",
   "execution_count": 1,
   "metadata": {},
   "outputs": [],
   "source": [
    "# scope of variable is determined only by location of variables created in source code of your code"
   ]
  },
  {
   "cell_type": "code",
   "execution_count": 2,
   "metadata": {},
   "outputs": [
    {
     "name": "stdout",
     "output_type": "stream",
     "text": [
      "test my data\n"
     ]
    }
   ],
   "source": [
    "# local variable:\n",
    "\n",
    "def add():\n",
    "    info = 'test my data'\n",
    "    print(info)\n",
    "    return None\n",
    "\n",
    "add()"
   ]
  },
  {
   "cell_type": "code",
   "execution_count": 3,
   "metadata": {},
   "outputs": [
    {
     "name": "stdout",
     "output_type": "stream",
     "text": [
      "mani\n",
      "23\n"
     ]
    },
    {
     "data": {
      "text/plain": [
       "'manimani'"
      ]
     },
     "execution_count": 3,
     "metadata": {},
     "output_type": "execute_result"
    }
   ],
   "source": [
    "def func():             # enclosing function\n",
    "    name = 'mani'       # local variable to func function\n",
    "    def bunc():         # normal function\n",
    "        age = 23    # local variable to bunc function\n",
    "        print(age)\n",
    "    print(name)\n",
    "    bunc()          # calling bunc function\n",
    "    return name*2\n",
    "\n",
    "func()              # calling func function (enclosing function)"
   ]
  },
  {
   "cell_type": "code",
   "execution_count": 5,
   "metadata": {},
   "outputs": [
    {
     "name": "stdout",
     "output_type": "stream",
     "text": [
      "Mani\n",
      "Manikanta\n"
     ]
    }
   ],
   "source": [
    "name = 'Mani'       # Global variable \n",
    "\n",
    "def fun1():\n",
    "    name = 'Manikanta'      # local variable\n",
    "    print(name)\n",
    "print(name)\n",
    "fun1()"
   ]
  },
  {
   "cell_type": "code",
   "execution_count": 6,
   "metadata": {},
   "outputs": [],
   "source": [
    "# LEGB rule:"
   ]
  },
  {
   "cell_type": "code",
   "execution_count": null,
   "metadata": {},
   "outputs": [],
   "source": [
    "# Accessing globals differently, factory functions:\n",
    "\n"
   ]
  }
 ],
 "metadata": {
  "kernelspec": {
   "display_name": "Python 3",
   "language": "python",
   "name": "python3"
  },
  "language_info": {
   "codemirror_mode": {
    "name": "ipython",
    "version": 3
   },
   "file_extension": ".py",
   "mimetype": "text/x-python",
   "name": "python",
   "nbconvert_exporter": "python",
   "pygments_lexer": "ipython3",
   "version": "3.9.6"
  }
 },
 "nbformat": 4,
 "nbformat_minor": 2
}
