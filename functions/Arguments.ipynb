{
 "cells": [
  {
   "cell_type": "code",
   "execution_count": 1,
   "metadata": {},
   "outputs": [],
   "source": [
    "# Arguments:\n",
    "\n",
    "# immutable arguments pass by values \n",
    "# mutable arguments pass by reference"
   ]
  },
  {
   "cell_type": "code",
   "execution_count": 2,
   "metadata": {},
   "outputs": [],
   "source": [
    "def mul(x,y):           # x=2,y=3           # function definition, arguments\n",
    "    y += 1              # y = 3+1 = 4\n",
    "    if isinstance(x,list):      # false         # instance is nothing but an object\n",
    "        x.pop(-1)\n",
    "    elif isinstance(x,str):     # false\n",
    "        x = x+' - good'\n",
    "    else:                   \n",
    "        x += 1              # x = 2+1 = 3\n",
    "    return x*y,x,y          # 3*4 = 12, 3, 4\n"
   ]
  },
  {
   "cell_type": "code",
   "execution_count": 3,
   "metadata": {},
   "outputs": [
    {
     "data": {
      "text/plain": [
       "(12, 3, 4)"
      ]
     },
     "execution_count": 3,
     "metadata": {},
     "output_type": "execute_result"
    }
   ],
   "source": [
    "info = mul(2,3)       # caller arguments  # info is the object to the mul function (pass by value)\n",
    "info"
   ]
  },
  {
   "cell_type": "code",
   "execution_count": 4,
   "metadata": {},
   "outputs": [
    {
     "name": "stdout",
     "output_type": "stream",
     "text": [
      "([2, 3, 45, 2, 3, 45], [2, 3, 45], 2)\n"
     ]
    }
   ],
   "source": [
    "l1 = [2,3,45,5.6]\n",
    "tim = 1\n",
    "\n",
    "res = mul(l1,tim)\n",
    "print(res)"
   ]
  },
  {
   "cell_type": "code",
   "execution_count": null,
   "metadata": {},
   "outputs": [],
   "source": []
  }
 ],
 "metadata": {
  "kernelspec": {
   "display_name": "Python 3",
   "language": "python",
   "name": "python3"
  },
  "language_info": {
   "codemirror_mode": {
    "name": "ipython",
    "version": 3
   },
   "file_extension": ".py",
   "mimetype": "text/x-python",
   "name": "python",
   "nbconvert_exporter": "python",
   "pygments_lexer": "ipython3",
   "version": "3.9.6"
  }
 },
 "nbformat": 4,
 "nbformat_minor": 2
}
